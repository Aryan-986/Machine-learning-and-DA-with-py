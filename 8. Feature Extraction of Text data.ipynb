{
  "nbformat": 4,
  "nbformat_minor": 0,
  "metadata": {
    "colab": {
      "provenance": [],
      "authorship_tag": "ABX9TyPzlnmi8CrPrCEk9Ld9k3nH",
      "include_colab_link": true
    },
    "kernelspec": {
      "name": "python3",
      "display_name": "Python 3"
    },
    "language_info": {
      "name": "python"
    }
  },
  "cells": [
    {
      "cell_type": "markdown",
      "metadata": {
        "id": "view-in-github",
        "colab_type": "text"
      },
      "source": [
        "<a href=\"https://colab.research.google.com/github/Aryan-986/Machine-learning-and-DA-with-py/blob/main/8.%20Feature%20Extraction%20of%20Text%20data.ipynb\" target=\"_parent\"><img src=\"https://colab.research.google.com/assets/colab-badge.svg\" alt=\"Open In Colab\"/></a>"
      ]
    },
    {
      "cell_type": "markdown",
      "source": [
        "About the dataset"
      ],
      "metadata": {
        "id": "7KAuvlToPw7Y"
      }
    },
    {
      "cell_type": "markdown",
      "source": [
        "1. id: Unique id for a new article"
      ],
      "metadata": {
        "id": "i--Y_R75PztJ"
      }
    },
    {
      "cell_type": "markdown",
      "source": [
        "2. title: the title of a news article"
      ],
      "metadata": {
        "id": "vdVqRxklP48C"
      }
    },
    {
      "cell_type": "markdown",
      "source": [
        "3. author: author of the newa article"
      ],
      "metadata": {
        "id": "tVVMbFElQCvs"
      }
    },
    {
      "cell_type": "markdown",
      "source": [
        "4. label: a label that marks whether the news article is real or fake"
      ],
      "metadata": {
        "id": "lCUvBm3bQHS1"
      }
    },
    {
      "cell_type": "markdown",
      "source": [
        "\n",
        "\n",
        "*   Fake news\n",
        "*   real news\n",
        "\n"
      ],
      "metadata": {
        "id": "6jwYLGJzQOwg"
      }
    },
    {
      "cell_type": "markdown",
      "source": [
        "Importing the Dependencies"
      ],
      "metadata": {
        "id": "kwhhF3sUQXzC"
      }
    },
    {
      "cell_type": "code",
      "source": [
        "import numpy as np\n",
        "import pandas as pd\n",
        "import re\n",
        "from nltk.corpus import stopwords\n",
        "from nltk.stem.porter import PorterStemmer\n",
        "from sklearn.feature_extraction.text import TfidfVectorizer\n"
      ],
      "metadata": {
        "id": "zMq8PrCAPu_j"
      },
      "execution_count": 3,
      "outputs": []
    },
    {
      "cell_type": "code",
      "source": [
        "# Install if needed:\n",
        "# pip install scikit-learn nltk\n",
        "\n",
        "import nltk\n",
        "from sklearn.feature_extraction.text import CountVectorizer, TfidfVectorizer\n",
        "\n",
        "# Example text snippets (replace with your transcript)\n",
        "documents = [\n",
        "    \"Machine learning is fascinating.\",\n",
        "    \"Text feature extraction converts text to vectors.\",\n",
        "    \"TF-IDF weighs words by their importance in the corpus.\"\n",
        "]\n",
        "\n",
        "# 1. Bag‑of‑Words\n",
        "bow_vectorizer = CountVectorizer()\n",
        "X_bow = bow_vectorizer.fit_transform(documents)\n",
        "print(\"BoW feature names:\", bow_vectorizer.get_feature_names_out())\n",
        "print(\"BoW vector (#docs × #terms):\\n\", X_bow.toarray())\n",
        "\n",
        "# 2. TF‑IDF\n",
        "tfidf_vectorizer = TfidfVectorizer()\n",
        "X_tfidf = tfidf_vectorizer.fit_transform(documents)\n",
        "print(\"\\nTF-IDF feature names:\", tfidf_vectorizer.get_feature_names_out())\n",
        "print(\"TF-IDF matrix:\\n\", X_tfidf.toarray())\n",
        "\n",
        "# 3. n‑grams (using bi‑grams)\n",
        "bigram_vectorizer = CountVectorizer(ngram_range=(2,2))\n",
        "X_bigram = bigram_vectorizer.fit_transform(documents)\n",
        "print(\"\\nBi-gram feature names:\", bigram_vectorizer.get_feature_names_out())\n",
        "print(\"Bi-gram BoW matrix:\\n\", X_bigram.toarray())\n"
      ],
      "metadata": {
        "colab": {
          "base_uri": "https://localhost:8080/"
        },
        "id": "AA98sMBSQody",
        "outputId": "61a66005-9a50-4b57-f20f-8e0b15dfcc88"
      },
      "execution_count": 5,
      "outputs": [
        {
          "output_type": "stream",
          "name": "stdout",
          "text": [
            "BoW feature names: ['by' 'converts' 'corpus' 'extraction' 'fascinating' 'feature' 'idf'\n",
            " 'importance' 'in' 'is' 'learning' 'machine' 'text' 'tf' 'the' 'their'\n",
            " 'to' 'vectors' 'weighs' 'words']\n",
            "BoW vector (#docs × #terms):\n",
            " [[0 0 0 0 1 0 0 0 0 1 1 1 0 0 0 0 0 0 0 0]\n",
            " [0 1 0 1 0 1 0 0 0 0 0 0 2 0 0 0 1 1 0 0]\n",
            " [1 0 1 0 0 0 1 1 1 0 0 0 0 1 1 1 0 0 1 1]]\n",
            "\n",
            "TF-IDF feature names: ['by' 'converts' 'corpus' 'extraction' 'fascinating' 'feature' 'idf'\n",
            " 'importance' 'in' 'is' 'learning' 'machine' 'text' 'tf' 'the' 'their'\n",
            " 'to' 'vectors' 'weighs' 'words']\n",
            "TF-IDF matrix:\n",
            " [[0.         0.         0.         0.         0.5        0.\n",
            "  0.         0.         0.         0.5        0.5        0.5\n",
            "  0.         0.         0.         0.         0.         0.\n",
            "  0.         0.        ]\n",
            " [0.         0.33333333 0.         0.33333333 0.         0.33333333\n",
            "  0.         0.         0.         0.         0.         0.\n",
            "  0.66666667 0.         0.         0.         0.33333333 0.33333333\n",
            "  0.         0.        ]\n",
            " [0.31622777 0.         0.31622777 0.         0.         0.\n",
            "  0.31622777 0.31622777 0.31622777 0.         0.         0.\n",
            "  0.         0.31622777 0.31622777 0.31622777 0.         0.\n",
            "  0.31622777 0.31622777]]\n",
            "\n",
            "Bi-gram feature names: ['by their' 'converts text' 'extraction converts' 'feature extraction'\n",
            " 'idf weighs' 'importance in' 'in the' 'is fascinating' 'learning is'\n",
            " 'machine learning' 'text feature' 'text to' 'tf idf' 'the corpus'\n",
            " 'their importance' 'to vectors' 'weighs words' 'words by']\n",
            "Bi-gram BoW matrix:\n",
            " [[0 0 0 0 0 0 0 1 1 1 0 0 0 0 0 0 0 0]\n",
            " [0 1 1 1 0 0 0 0 0 0 1 1 0 0 0 1 0 0]\n",
            " [1 0 0 0 1 1 1 0 0 0 0 0 1 1 1 0 1 1]]\n"
          ]
        }
      ]
    },
    {
      "cell_type": "code",
      "source": [],
      "metadata": {
        "id": "GWd8g1WLViVV"
      },
      "execution_count": null,
      "outputs": []
    }
  ]
}